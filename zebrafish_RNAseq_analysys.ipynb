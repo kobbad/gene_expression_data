{
 "metadata": {
  "name": ""
 },
 "nbformat": 3,
 "nbformat_minor": 0,
 "worksheets": [
  {
   "cells": [
    {
     "cell_type": "code",
     "collapsed": false,
     "input": [
      "import pandas as pd\n",
      "import matplotlib as mpl\n",
      "import matplotlib.pyplot as plt\n",
      "import numpy as np\n",
      "import scipy as sp\n",
      "import itertools\n",
      "import pylab\n",
      "%matplotlib inline\n",
      "import rpy2"
     ],
     "language": "python",
     "metadata": {},
     "outputs": [
      {
       "ename": "ImportError",
       "evalue": "No module named rpy2",
       "output_type": "pyerr",
       "traceback": [
        "\u001b[1;31m---------------------------------------------------------------------------\u001b[0m\n\u001b[1;31mImportError\u001b[0m                               Traceback (most recent call last)",
        "\u001b[1;32m<ipython-input-1-f50f212cfae8>\u001b[0m in \u001b[0;36m<module>\u001b[1;34m()\u001b[0m\n\u001b[0;32m      7\u001b[0m \u001b[1;32mimport\u001b[0m \u001b[0mpylab\u001b[0m\u001b[1;33m\u001b[0m\u001b[0m\n\u001b[0;32m      8\u001b[0m \u001b[0mget_ipython\u001b[0m\u001b[1;33m(\u001b[0m\u001b[1;33m)\u001b[0m\u001b[1;33m.\u001b[0m\u001b[0mmagic\u001b[0m\u001b[1;33m(\u001b[0m\u001b[1;34mu'matplotlib inline'\u001b[0m\u001b[1;33m)\u001b[0m\u001b[1;33m\u001b[0m\u001b[0m\n\u001b[1;32m----> 9\u001b[1;33m \u001b[1;32mimport\u001b[0m \u001b[0mrpy2\u001b[0m\u001b[1;33m\u001b[0m\u001b[0m\n\u001b[0m",
        "\u001b[1;31mImportError\u001b[0m: No module named rpy2"
       ]
      }
     ],
     "prompt_number": 1
    },
    {
     "cell_type": "code",
     "collapsed": false,
     "input": [
      "def prettify_ax(ax):\n",
      "    \"\"\"\n",
      "    Nifty function we can use to make our axes more pleasant to look at\n",
      "    \"\"\"\n",
      "    for spine in ax.spines.itervalues():\n",
      "        spine.set_visible(False)\n",
      "    ax.set_frameon=True\n",
      "    ax.patch.set_facecolor('#eeeeef')\n",
      "    ax.grid('on', color='w', linestyle='-', linewidth=1)\n",
      "    ax.tick_params(direction='out')\n",
      "    ax.set_axisbelow(True)\n",
      "    \n",
      "def simple_ax(figsize=(6,4), **kwargs):\n",
      "    \"\"\"\n",
      "    Shortcut to make and 'prettify' a simple figure with 1 axis\n",
      "    \"\"\"\n",
      "    fig = plt.figure(figsize=figsize)\n",
      "    ax = fig.add_subplot(111, **kwargs)\n",
      "    prettify_ax(ax)\n",
      "    return fig, ax"
     ],
     "language": "python",
     "metadata": {},
     "outputs": [],
     "prompt_number": 2
    },
    {
     "cell_type": "code",
     "collapsed": false,
     "input": [
      "## fastq reads are here /n/schierfs1/data/RNA-Seq/nanog2016/Lane1.indexlength_6/Fastq\n",
      "## file names\n",
      "\"\"\"\n",
      "mutant-shield1_S10.R1.fastq.gz\twildtype-shield1_S4.R1.fastq.gz\n",
      "mutant-shield2_S11.R1.fastq.gz\twildtype-shield2_S5.R1.fastq.gz\n",
      "mutant-shield3_S12.R1.fastq.gz\twildtype-shield3_S6.R1.fastq.gz\n",
      "mutant-sphere1_S7.R1.fastq.gz\twildtype-sphere1_S1.R1.fastq.gz\n",
      "mutant-sphere2_S8.R1.fastq.gz\twildtype-sphere2_S2.R1.fastq.gz\n",
      "mutant-sphere3_S9.R1.fastq.gz\twildtype-sphere3_S3.R1.fastq.gz\n",
      "\"\"\""
     ],
     "language": "python",
     "metadata": {},
     "outputs": [
      {
       "metadata": {},
       "output_type": "pyout",
       "prompt_number": 3,
       "text": [
        "'\\nmutant-shield1_S10.R1.fastq.gz\\twildtype-shield1_S4.R1.fastq.gz\\nmutant-shield2_S11.R1.fastq.gz\\twildtype-shield2_S5.R1.fastq.gz\\nmutant-shield3_S12.R1.fastq.gz\\twildtype-shield3_S6.R1.fastq.gz\\nmutant-sphere1_S7.R1.fastq.gz\\twildtype-sphere1_S1.R1.fastq.gz\\nmutant-sphere2_S8.R1.fastq.gz\\twildtype-sphere2_S2.R1.fastq.gz\\nmutant-sphere3_S9.R1.fastq.gz\\twildtype-sphere3_S3.R1.fastq.gz\\n'"
       ]
      }
     ],
     "prompt_number": 3
    },
    {
     "cell_type": "markdown",
     "metadata": {},
     "source": [
      "## Making the index"
     ]
    },
    {
     "cell_type": "code",
     "collapsed": false,
     "input": [
      "%%writefile ./zfish_index.sh\n",
      "#!/bin/bash\n",
      "\n",
      "#SBATCH -n 1                            #Number of cores\n",
      "#SBATCH -N 1                            #Run on 1 node\n",
      "#SBATCH --mem=8000                      \n",
      "\n",
      "#SBATCH -t 05:00:00\n",
      "#SBATCH -p serial_requeue\n",
      "\n",
      "#SBATCH -o ./index_output\n",
      "#SBATCH -e ./index_errors\n",
      "#SBATCH --mail-type=ALL\n",
      "#SBATCH --mail-user=koobad@college.harvard.edu\n",
      "\n",
      "# --------------\n",
      "source /n/scrb152/setup.sh\n",
      "~/software/subread-1.4.6-p3-source/bin/subread-buildindex  /n/schierfs1/projects/nanog2016/zebrafish.fa -o /n/schierfs1/projects/nanog2016/zebrafish.subread_index\n"
     ],
     "language": "python",
     "metadata": {},
     "outputs": []
    },
    {
     "cell_type": "code",
     "collapsed": false,
     "input": [
      "%%bash\n",
      "sbatch ./zfish_index.sh"
     ],
     "language": "python",
     "metadata": {},
     "outputs": []
    },
    {
     "cell_type": "markdown",
     "metadata": {},
     "source": [
      "## Align the reads"
     ]
    },
    {
     "cell_type": "code",
     "collapsed": false,
     "input": [
      "%%writefile ./zebrafish_subjunc.sh\n",
      "#!/bin/bash\n",
      "\n",
      "#SBATCH -n 4                            #The number of cores should match the '--threads' parameter of subjunc\n",
      "#SBATCH -N 1                            #Run on 1 node\n",
      "#SBATCH --mem=12000                     \n",
      "\n",
      "#SBATCH -t 180\n",
      "#SBATCH -p serial_requeue                \n",
      "\n",
      "#SBATCH -o index_output\n",
      "#SBATCH -e index_error\n",
      "#SBATCH --mail-type=ALL\n",
      "#SBATCH --mail-user=armonrahim@college.harvard.edu\n",
      "\n",
      "# --------------\n",
      "# Fill this part out (and the specific fields above)\n",
      "source /n/scrb152/setup.sh\n",
      "# cd /scratch\n",
      "~/software/subread-1.4.6-p3-source/bin/subjunc \\\n",
      "        --index /n/schierfs1/projects/nanog2016/zebrafish.subread_index \\\n",
      "        --read /n/schierfs1/data/RNA-Seq/nanog2016/Lane1.indexlength_6/Fastq/mutant-shield1_S10.R1.fastq.gz \\\n",
      "        --output /n/schierfs1/projects/nanog2016/mutant-shield1_S10.R1.bam  \\\n",
      "        --BAMoutput \\\n",
      "        --gzFASTQinput \\\n",
      "        --threads 4 \\\n",
      "        -H \\\n",
      "        -n 14 \\\n",
      "        --allJunctions"
     ],
     "language": "python",
     "metadata": {},
     "outputs": [
      {
       "output_type": "stream",
       "stream": "stdout",
       "text": [
        "Overwriting ./zebrafish_subjunc.sh\n"
       ]
      }
     ],
     "prompt_number": 4
    },
    {
     "cell_type": "code",
     "collapsed": false,
     "input": [
      "%%bash\n",
      "sbatch ./zebrafish_subjunc.sh"
     ],
     "language": "python",
     "metadata": {},
     "outputs": [
      {
       "output_type": "stream",
       "stream": "stdout",
       "text": [
        "Submitted batch job 59426617\n"
       ]
      }
     ],
     "prompt_number": 5
    },
    {
     "cell_type": "code",
     "collapsed": false,
     "input": [
      "%%writefile ./zebrafish_subjunc_all_2.sh\n",
      "#!/bin/bash\n",
      "\n",
      "#SBATCH -n 4                            #The number of cores should match the '--threads' parameter of subjunc\n",
      "#SBATCH -N 1                            #Run on 1 node\n",
      "#SBATCH --mem=12000                     \n",
      "\n",
      "#SBATCH -t 180\n",
      "#SBATCH -p serial_requeue                \n",
      "\n",
      "#SBATCH -o index_output2\n",
      "#SBATCH -e index_error2\n",
      "#SBATCH --mail-type=ALL\n",
      "#SBATCH --mail-user=kobbad@college.harvard.edu\n",
      "\n",
      "# --------------\n",
      "# Fill this part out (and the specific fields above)\n",
      "source /n/scrb152/setup.sh\n",
      "#cd /scratch\n",
      "~/software/subread-1.4.6-p3-source/bin/subjunc \\\n",
      "        --index /n/schierfs1/projects/nanog2016/zebrafish.subread_index \\\n",
      "        --read /n/schierfs1/data/RNA-Seq/nanog2016/Lane1.indexlength_6/Fastq/mutant-shield2_S11.R1.fastq.gz \\\n",
      "        --output /n/schierfs1/projects/nanog2016/mutant-shield2_S11.R1.bam  \\\n",
      "        --BAMoutput \\\n",
      "        --gzFASTQinput \\\n",
      "        --threads 4 \\\n",
      "        -H \\\n",
      "        -n 14 \\\n",
      "        --allJunctions"
     ],
     "language": "python",
     "metadata": {},
     "outputs": [
      {
       "output_type": "stream",
       "stream": "stdout",
       "text": [
        "Overwriting ./zebrafish_subjunc_all_2.sh\n"
       ]
      }
     ],
     "prompt_number": 19
    },
    {
     "cell_type": "code",
     "collapsed": false,
     "input": [
      "%%bash\n",
      "sbatch ./zebrafish_subjunc_all_2.sh"
     ],
     "language": "python",
     "metadata": {},
     "outputs": [
      {
       "output_type": "stream",
       "stream": "stdout",
       "text": [
        "Submitted batch job 59440465\n"
       ]
      }
     ],
     "prompt_number": 20
    },
    {
     "cell_type": "code",
     "collapsed": false,
     "input": [
      "%%writefile ./zebrafish_subjunc_3.sh\n",
      "#!/bin/bash\n",
      "\n",
      "#SBATCH -n 4                            #The number of cores should match the '--threads' parameter of subjunc\n",
      "#SBATCH -N 1                            #Run on 1 node\n",
      "#SBATCH --mem=12000                     \n",
      "\n",
      "#SBATCH -t 180\n",
      "#SBATCH -p serial_requeue                \n",
      "\n",
      "#SBATCH -o index_output3\n",
      "#SBATCH -e index_error3\n",
      "#SBATCH --mail-type=ALL\n",
      "#SBATCH --mail-user=kobbad@college.harvard.edu\n",
      "\n",
      "# --------------\n",
      "# Fill this part out (and the specific fields above)\n",
      "source /n/scrb152/setup.sh\n",
      "#cd /scratch\n",
      "~/software/subread-1.4.6-p3-source/bin/subjunc \\\n",
      "        --index /n/schierfs1/projects/nanog2016/zebrafish.subread_index \\\n",
      "        --read /n/schierfs1/data/RNA-Seq/nanog2016/Lane1.indexlength_6/Fastq/mutant-shield3_S12.R1.fastq.gz \\\n",
      "        --output /n/schierfs1/projects/nanog2016/mutant-shield3_S12.R1.bam  \\\n",
      "        --BAMoutput \\\n",
      "        --gzFASTQinput \\\n",
      "        --threads 4 \\\n",
      "        -H \\\n",
      "        -n 14 \\\n",
      "        --allJunctions"
     ],
     "language": "python",
     "metadata": {},
     "outputs": [
      {
       "output_type": "stream",
       "stream": "stdout",
       "text": [
        "Overwriting ./zebrafish_subjunc_3.sh\n"
       ]
      }
     ],
     "prompt_number": 21
    },
    {
     "cell_type": "code",
     "collapsed": false,
     "input": [
      "%%bash\n",
      "sbatch ./zebrafish_subjunc_3.sh"
     ],
     "language": "python",
     "metadata": {},
     "outputs": [
      {
       "output_type": "stream",
       "stream": "stdout",
       "text": [
        "Submitted batch job 59440467\n"
       ]
      }
     ],
     "prompt_number": 22
    },
    {
     "cell_type": "code",
     "collapsed": false,
     "input": [
      "%%writefile ./zebrafish_subjunc_4.sh\n",
      "#!/bin/bash\n",
      "\n",
      "#SBATCH -n 4                            #The number of cores should match the '--threads' parameter of subjunc\n",
      "#SBATCH -N 1                            #Run on 1 node\n",
      "#SBATCH --mem=12000                     \n",
      "\n",
      "#SBATCH -t 180\n",
      "#SBATCH -p serial_requeue                \n",
      "\n",
      "#SBATCH -o index_output4\n",
      "#SBATCH -e index_error4\n",
      "#SBATCH --mail-type=ALL\n",
      "#SBATCH --mail-user=kobbad@college.harvard.edu\n",
      "\n",
      "# --------------\n",
      "# Fill this part out (and the specific fields above)\n",
      "source /n/scrb152/setup.sh\n",
      "#cd /scratch\n",
      "~/software/subread-1.4.6-p3-source/bin/subjunc \\\n",
      "        --index /n/schierfs1/projects/nanog2016/zebrafish.subread_index \\\n",
      "        --read /n/schierfs1/data/RNA-Seq/nanog2016/Lane1.indexlength_6/Fastq/mutant-sphere1_S7.R1.fastq.gz \\\n",
      "        --output /n/schierfs1/projects/nanog2016/mutant-sphere1_S7.R1.bam  \\\n",
      "        --BAMoutput \\\n",
      "        --gzFASTQinput \\\n",
      "        --threads 4 \\\n",
      "        -H \\\n",
      "        -n 14 \\\n",
      "        --allJunctions"
     ],
     "language": "python",
     "metadata": {},
     "outputs": [
      {
       "output_type": "stream",
       "stream": "stdout",
       "text": [
        "Overwriting ./zebrafish_subjunc_4.sh\n"
       ]
      }
     ],
     "prompt_number": 10
    },
    {
     "cell_type": "code",
     "collapsed": false,
     "input": [
      "%%bash\n",
      "sbatch ./zebrafish_subjunc_4.sh"
     ],
     "language": "python",
     "metadata": {},
     "outputs": [
      {
       "output_type": "stream",
       "stream": "stdout",
       "text": [
        "Submitted batch job 59426741\n"
       ]
      }
     ],
     "prompt_number": 11
    },
    {
     "cell_type": "code",
     "collapsed": false,
     "input": [
      "%%writefile ./zebrafish_subjunc_5.sh\n",
      "#!/bin/bash\n",
      "\n",
      "#SBATCH -n 4                            #The number of cores should match the '--threads' parameter of subjunc\n",
      "#SBATCH -N 1                            #Run on 1 node\n",
      "#SBATCH --mem=12000                     \n",
      "\n",
      "#SBATCH -t 180\n",
      "#SBATCH -p serial_requeue                \n",
      "\n",
      "#SBATCH -o index_output4\n",
      "#SBATCH -e index_error4\n",
      "#SBATCH --mail-type=ALL\n",
      "#SBATCH --mail-user=kobbad@college.harvard.edu\n",
      "\n",
      "# --------------\n",
      "# Fill this part out (and the specific fields above)\n",
      "source /n/scrb152/setup.sh\n",
      "#cd /scratch\n",
      "~/software/subread-1.4.6-p3-source/bin/subjunc \\\n",
      "        --index /n/schierfs1/projects/nanog2016/zebrafish.subread_index \\\n",
      "        --read /n/schierfs1/data/RNA-Seq/nanog2016/Lane1.indexlength_6/Fastq/mutant-sphere2_S8.R1.fastq.gz \\\n",
      "        --output /n/schierfs1/projects/nanog2016/mutant-sphere2_S8.R1.bam  \\\n",
      "        --BAMoutput \\\n",
      "        --gzFASTQinput \\\n",
      "        --threads 4 \\\n",
      "        -H \\\n",
      "        -n 14 \\\n",
      "        --allJunctions"
     ],
     "language": "python",
     "metadata": {},
     "outputs": [
      {
       "output_type": "stream",
       "stream": "stdout",
       "text": [
        "Overwriting ./zebrafish_subjunc_5.sh\n"
       ]
      }
     ],
     "prompt_number": 23
    },
    {
     "cell_type": "code",
     "collapsed": false,
     "input": [
      "%%bash\n",
      "sbatch ./zebrafish_subjunc_5.sh"
     ],
     "language": "python",
     "metadata": {},
     "outputs": [
      {
       "output_type": "stream",
       "stream": "stdout",
       "text": [
        "Submitted batch job 59440505\n"
       ]
      }
     ],
     "prompt_number": 24
    },
    {
     "cell_type": "code",
     "collapsed": false,
     "input": [
      "%%writefile ./zebrafish_subjunc_6.sh\n",
      "#!/bin/bash\n",
      "\n",
      "#SBATCH -n 4                            #The number of cores should match the '--threads' parameter of subjunc\n",
      "#SBATCH -N 1                            #Run on 1 node\n",
      "#SBATCH --mem=12000                     \n",
      "\n",
      "#SBATCH -t 180\n",
      "#SBATCH -p serial_requeue                \n",
      "\n",
      "#SBATCH -o index_output4\n",
      "#SBATCH -e index_error4\n",
      "#SBATCH --mail-type=ALL\n",
      "#SBATCH --mail-user=kobbad@college.harvard.edu\n",
      "\n",
      "# --------------\n",
      "# Fill this part out (and the specific fields above)\n",
      "source /n/scrb152/setup.sh\n",
      "#cd /scratch\n",
      "~/software/subread-1.4.6-p3-source/bin/subjunc \\\n",
      "        --index /n/schierfs1/projects/nanog2016/zebrafish.subread_index \\\n",
      "        --read /n/schierfs1/data/RNA-Seq/nanog2016/Lane1.indexlength_6/Fastq/mutant-sphere3_S9.R1.fastq.gz \\\n",
      "        --output /n/schierfs1/projects/nanog2016/mutant-sphere3_S9.R1.bam  \\\n",
      "        --BAMoutput \\\n",
      "        --gzFASTQinput \\\n",
      "        --threads 4 \\\n",
      "        -H \\\n",
      "        -n 14 \\\n",
      "        --allJunctions"
     ],
     "language": "python",
     "metadata": {},
     "outputs": [
      {
       "output_type": "stream",
       "stream": "stdout",
       "text": [
        "Overwriting ./zebrafish_subjunc_6.sh\n"
       ]
      }
     ],
     "prompt_number": 1
    },
    {
     "cell_type": "code",
     "collapsed": false,
     "input": [
      "%%bash\n",
      "sbatch ./zebrafish_subjunc_6.sh"
     ],
     "language": "python",
     "metadata": {},
     "outputs": [
      {
       "output_type": "stream",
       "stream": "stdout",
       "text": [
        "Submitted batch job 59476728\n"
       ]
      }
     ],
     "prompt_number": 2
    },
    {
     "cell_type": "code",
     "collapsed": false,
     "input": [
      "%%writefile ./zebrafish_subjunc_7.sh\n",
      "#!/bin/bash\n",
      "\n",
      "#SBATCH -n 4                            #The number of cores should match the '--threads' parameter of subjunc\n",
      "#SBATCH -N 1                            #Run on 1 node\n",
      "#SBATCH --mem=12000                     \n",
      "\n",
      "#SBATCH -t 180\n",
      "#SBATCH -p serial_requeue                \n",
      "\n",
      "#SBATCH -o index_output4\n",
      "#SBATCH -e index_error4\n",
      "#SBATCH --mail-type=ALL\n",
      "#SBATCH --mail-user=kobbad@college.harvard.edu\n",
      "\n",
      "# --------------\n",
      "# Fill this part out (and the specific fields above)\n",
      "source /n/scrb152/setup.sh\n",
      "#cd /scratch\n",
      "~/software/subread-1.4.6-p3-source/bin/subjunc \\\n",
      "        --index /n/schierfs1/projects/nanog2016/zebrafish.subread_index \\\n",
      "        --read /n/schierfs1/data/RNA-Seq/nanog2016/Lane1.indexlength_6/Fastq/wildtype-shield1_S4.R1.fastq.gz \\\n",
      "        --output /n/schierfs1/projects/nanog2016/wildtype-shield1_S4.R1.bam  \\\n",
      "        --BAMoutput \\\n",
      "        --gzFASTQinput \\\n",
      "        --threads 4 \\\n",
      "        -H \\\n",
      "        -n 14 \\\n",
      "        --allJunctions"
     ],
     "language": "python",
     "metadata": {},
     "outputs": [
      {
       "output_type": "stream",
       "stream": "stdout",
       "text": [
        "Overwriting ./zebrafish_subjunc_7.sh\n"
       ]
      }
     ],
     "prompt_number": 5
    },
    {
     "cell_type": "code",
     "collapsed": false,
     "input": [
      "%%bash\n",
      "sbatch ./zebrafish_subjunc_7.sh"
     ],
     "language": "python",
     "metadata": {},
     "outputs": [
      {
       "output_type": "stream",
       "stream": "stdout",
       "text": [
        "Submitted batch job 59476741\n"
       ]
      }
     ],
     "prompt_number": 6
    },
    {
     "cell_type": "code",
     "collapsed": false,
     "input": [
      "%%writefile ./zebrafish_subjunc_8.sh\n",
      "#!/bin/bash\n",
      "\n",
      "#SBATCH -n 4                            #The number of cores should match the '--threads' parameter of subjunc\n",
      "#SBATCH -N 1                            #Run on 1 node\n",
      "#SBATCH --mem=12000                     \n",
      "\n",
      "#SBATCH -t 180\n",
      "#SBATCH -p serial_requeue                \n",
      "\n",
      "#SBATCH -o index_output4\n",
      "#SBATCH -e index_error4\n",
      "#SBATCH --mail-type=ALL\n",
      "#SBATCH --mail-user=kobbad@college.harvard.edu\n",
      "\n",
      "# --------------\n",
      "# Fill this part out (and the specific fields above)\n",
      "source /n/scrb152/setup.sh\n",
      "#cd /scratch\n",
      "~/software/subread-1.4.6-p3-source/bin/subjunc \\\n",
      "        --index /n/schierfs1/projects/nanog2016/zebrafish.subread_index \\\n",
      "        --read /n/schierfs1/data/RNA-Seq/nanog2016/Lane1.indexlength_6/Fastq/wildtype-shield2_S5.R1.fastq.gz \\\n",
      "        --output /n/schierfs1/projects/nanog2016/wildtype-shield1_S5.R1.bam  \\\n",
      "        --BAMoutput \\\n",
      "        --gzFASTQinput \\\n",
      "        --threads 4 \\\n",
      "        -H \\\n",
      "        -n 14 \\\n",
      "        --allJunctions"
     ],
     "language": "python",
     "metadata": {},
     "outputs": [
      {
       "output_type": "stream",
       "stream": "stdout",
       "text": [
        "Overwriting ./zebrafish_subjunc_8.sh\n"
       ]
      }
     ],
     "prompt_number": 11
    },
    {
     "cell_type": "code",
     "collapsed": false,
     "input": [
      "%%bash\n",
      "sbatch ./zebrafish_subjunc_8.sh"
     ],
     "language": "python",
     "metadata": {},
     "outputs": [
      {
       "output_type": "stream",
       "stream": "stdout",
       "text": [
        "Submitted batch job 59476762\n"
       ]
      }
     ],
     "prompt_number": 12
    },
    {
     "cell_type": "code",
     "collapsed": false,
     "input": [
      "%%writefile ./zebrafish_subjunc_9.sh\n",
      "#!/bin/bash\n",
      "\n",
      "#SBATCH -n 4                            #The number of cores should match the '--threads' parameter of subjunc\n",
      "#SBATCH -N 1                            #Run on 1 node\n",
      "#SBATCH --mem=12000                     \n",
      "\n",
      "#SBATCH -t 180\n",
      "#SBATCH -p serial_requeue                \n",
      "\n",
      "#SBATCH -o index_output9\n",
      "#SBATCH -e index_error9\n",
      "#SBATCH --mail-type=ALL\n",
      "#SBATCH --mail-user=kobbad@college.harvard.edu\n",
      "\n",
      "# --------------\n",
      "# Fill this part out (and the specific fields above)\n",
      "source /n/scrb152/setup.sh\n",
      "#cd /scratch\n",
      "~/software/subread-1.4.6-p3-source/bin/subjunc \\\n",
      "        --index /n/schierfs1/projects/nanog2016/zebrafish.subread_index \\\n",
      "        --read /n/schierfs1/data/RNA-Seq/nanog2016/Lane1.indexlength_6/Fastq/wildtype-shield3_S6.R1.fastq.gz \\\n",
      "        --output /n/schierfs1/projects/nanog2016/wildtype-shield3_S6.R1.bam  \\\n",
      "        --BAMoutput \\\n",
      "        --gzFASTQinput \\\n",
      "        --threads 4 \\\n",
      "        -H \\\n",
      "        -n 14 \\\n",
      "        --allJunctions"
     ],
     "language": "python",
     "metadata": {},
     "outputs": [
      {
       "output_type": "stream",
       "stream": "stdout",
       "text": [
        "Overwriting ./zebrafish_subjunc_9.sh\n"
       ]
      }
     ],
     "prompt_number": 23
    },
    {
     "cell_type": "code",
     "collapsed": false,
     "input": [
      "%%bash\n",
      "sbatch ./zebrafish_subjunc_9.sh"
     ],
     "language": "python",
     "metadata": {},
     "outputs": [
      {
       "output_type": "stream",
       "stream": "stdout",
       "text": [
        "Submitted batch job 59479257\n"
       ]
      }
     ],
     "prompt_number": 24
    },
    {
     "cell_type": "code",
     "collapsed": false,
     "input": [
      "%%writefile ./zebrafish_subjunc_10.sh\n",
      "#!/bin/bash\n",
      "\n",
      "#SBATCH -n 4                            #The number of cores should match the '--threads' parameter of subjunc\n",
      "#SBATCH -N 1                            #Run on 1 node\n",
      "#SBATCH --mem=12000                     \n",
      "\n",
      "#SBATCH -t 180\n",
      "#SBATCH -p serial_requeue                \n",
      "\n",
      "#SBATCH -o index_output4\n",
      "#SBATCH -e index_error4\n",
      "#SBATCH --mail-type=ALL\n",
      "#SBATCH --mail-user=kobbad@college.harvard.edu\n",
      "\n",
      "# --------------\n",
      "# Fill this part out (and the specific fields above)\n",
      "source /n/scrb152/setup.sh\n",
      "#cd /scratch\n",
      "~/software/subread-1.4.6-p3-source/bin/subjunc \\\n",
      "        --index /n/schierfs1/projects/nanog2016/zebrafish.subread_index \\\n",
      "        --read /n/schierfs1/data/RNA-Seq/nanog2016/Lane1.indexlength_6/Fastq/wildtype-sphere1_S1.R1.fastq.gz \\\n",
      "        --output /n/schierfs1/projects/nanog2016/wildtype-sphere1_S1.R1.bam  \\\n",
      "        --BAMoutput \\\n",
      "        --gzFASTQinput \\\n",
      "        --threads 4 \\\n",
      "        -H \\\n",
      "        -n 14 \\\n",
      "        --allJunctions"
     ],
     "language": "python",
     "metadata": {},
     "outputs": [
      {
       "output_type": "stream",
       "stream": "stdout",
       "text": [
        "Writing ./zebrafish_subjunc_10.sh\n"
       ]
      }
     ],
     "prompt_number": 15
    },
    {
     "cell_type": "code",
     "collapsed": false,
     "input": [
      "%%bash\n",
      "sbatch ./zebrafish_subjunc_10.sh"
     ],
     "language": "python",
     "metadata": {},
     "outputs": [
      {
       "output_type": "stream",
       "stream": "stdout",
       "text": [
        "Submitted batch job 59476774\n"
       ]
      }
     ],
     "prompt_number": 16
    },
    {
     "cell_type": "code",
     "collapsed": false,
     "input": [
      "%%writefile ./zebrafish_subjunc_11.sh\n",
      "#!/bin/bash\n",
      "\n",
      "#SBATCH -n 4                            #The number of cores should match the '--threads' parameter of subjunc\n",
      "#SBATCH -N 1                            #Run on 1 node\n",
      "#SBATCH --mem=12000                     \n",
      "\n",
      "#SBATCH -t 180\n",
      "#SBATCH -p serial_requeue                \n",
      "\n",
      "#SBATCH -o index_output_sphere_2\n",
      "#SBATCH -e index_error_sphere_2\n",
      "#SBATCH --mail-type=ALL\n",
      "#SBATCH --mail-user=kobbad@college.harvard.edu\n",
      "\n",
      "# --------------\n",
      "# Fill this part out (and the specific fields above)\n",
      "source /n/scrb152/setup.sh\n",
      "#cd /scratch\n",
      "~/software/subread-1.4.6-p3-source/bin/subjunc \\\n",
      "        --index /n/schierfs1/projects/nanog2016/zebrafish.subread_index \\\n",
      "        --read /n/schierfs1/data/RNA-Seq/nanog2016/Lane1.indexlength_6/Fastq/wildtype-sphere2_S2.R1.fastq.gz \\\n",
      "        --output /n/schierfs1/projects/nanog2016/wildtype-sphere2_S2.R1.bam  \\\n",
      "        --BAMoutput \\\n",
      "        --gzFASTQinput \\\n",
      "        --threads 4 \\\n",
      "        -H \\\n",
      "        -n 14 \\\n",
      "        --allJunctions"
     ],
     "language": "python",
     "metadata": {},
     "outputs": [
      {
       "output_type": "stream",
       "stream": "stdout",
       "text": [
        "Overwriting ./zebrafish_subjunc_11.sh\n"
       ]
      }
     ],
     "prompt_number": 1
    },
    {
     "cell_type": "code",
     "collapsed": false,
     "input": [
      "%%bash\n",
      "sbatch ./zebrafish_subjunc_11.sh"
     ],
     "language": "python",
     "metadata": {},
     "outputs": [
      {
       "output_type": "stream",
       "stream": "stdout",
       "text": [
        "Submitted batch job 59654089\n"
       ]
      }
     ],
     "prompt_number": 2
    },
    {
     "cell_type": "code",
     "collapsed": false,
     "input": [
      "%%writefile ./zebrafish_subjunc_12.sh\n",
      "#!/bin/bash\n",
      "\n",
      "#SBATCH -n 4                            #The number of cores should match the '--threads' parameter of subjunc\n",
      "#SBATCH -N 1                            #Run on 1 node\n",
      "#SBATCH --mem=12000                     \n",
      "\n",
      "#SBATCH -t 180\n",
      "#SBATCH -p serial_requeue                \n",
      "\n",
      "#SBATCH -o index_output_FC\n",
      "#SBATCH -e index_error_FC\n",
      "#SBATCH --mail-type=ALL\n",
      "#SBATCH --mail-user=kobbad@college.harvard.edu\n",
      "\n",
      "# --------------\n",
      "# Fill this part out (and the specific fields above)\n",
      "source /n/scrb152/setup.sh\n",
      "#cd /scratch\n",
      "~/software/subread-1.4.6-p3-source/bin/subjunc \\\n",
      "        --index /n/schierfs1/projects/nanog2016/zebrafish.subread_index \\\n",
      "        --read /n/schierfs1/data/RNA-Seq/nanog2016/Lane1.indexlength_6/Fastq/wildtype-sphere3_S3.R1.fastq.gz \\\n",
      "        --output /n/schierfs1/projects/nanog2016/wildtype-sphere3_S3.R1.bam  \\\n",
      "        --BAMoutput \\\n",
      "        --gzFASTQinput \\\n",
      "        --threads 4 \\\n",
      "        -H \\\n",
      "        -n 14 \\\n",
      "        --allJunctions"
     ],
     "language": "python",
     "metadata": {},
     "outputs": [
      {
       "output_type": "stream",
       "stream": "stdout",
       "text": [
        "Writing ./zebrafish_subjunc_12.sh\n"
       ]
      }
     ],
     "prompt_number": 19
    },
    {
     "cell_type": "code",
     "collapsed": false,
     "input": [
      "%%bash\n",
      "sbatch ./zebrafish_subjunc_12.sh"
     ],
     "language": "python",
     "metadata": {},
     "outputs": [
      {
       "output_type": "stream",
       "stream": "stdout",
       "text": [
        "Submitted batch job 59476785\n"
       ]
      }
     ],
     "prompt_number": 20
    },
    {
     "cell_type": "markdown",
     "metadata": {},
     "source": [
      "## Run feature counts"
     ]
    },
    {
     "cell_type": "code",
     "collapsed": false,
     "input": [
      "%%writefile ./zFish_FeatureCounts_TopHat.sh\n",
      "#!/bin/bash\n",
      "\n",
      "#SBATCH -n 4                            #The number of cores should match the '--threads' parameter of subjunc\n",
      "#SBATCH -N 1                            #Run on 1 node\n",
      "#SBATCH --mem=4000                     \n",
      "\n",
      "#SBATCH -t 180\n",
      "#SBATCH -p serial_requeue              \n",
      "\n",
      "#SBATCH -o index_output_FC_TopHat\n",
      "#SBATCH -e index_error_FC_TopHat\n",
      "#SBATCH --mail-type=ALL\n",
      "#SBATCH --mail-user=kobbad@college.harvard.edu\n",
      "\n",
      "# --------------\n",
      "source /n/scrb152/setup.sh\n",
      "    \n",
      "~/software/subread-1.4.6-p3-source/bin/featureCounts \\\n",
      "        -a /n/schierfs1/projects/nanog2016/zebrafish.gtf \\\n",
      "        -F GTF \\\n",
      "        -s 0 \\\n",
      "        -o /n/schierfs1/projects/nanog2016/feature_counts_top_hat.txt  \\\n",
      "        -Q 1 \\\n",
      "        -R \\\n",
      "        /n/schierfs1/projects/nanog2016/tophat/mapped_reads/mutant-shield1_S10/accepted_hits.bam \\\n",
      "        /n/schierfs1/projects/nanog2016/tophat/mapped_reads/mutant-shield2_S11/accepted_hits.bam \\\n",
      "        /n/schierfs1/projects/nanog2016/tophat/mapped_reads/mutant-shield3_S12/accepted_hits.bam \\\n",
      "        /n/schierfs1/projects/nanog2016/tophat/mapped_reads/mutant-sphere1_S7/accepted_hits.bam \\\n",
      "        /n/schierfs1/projects/nanog2016/tophat/mapped_reads/mutant-sphere2_S8/accepted_hits.bam \\\n",
      "        /n/schierfs1/projects/nanog2016/tophat/mapped_reads/mutant-sphere3_S9/accepted_hits.bam \\\n",
      "        /n/schierfs1/projects/nanog2016/tophat/mapped_reads/wildtype-shield1_S4/accepted_hits.bam \\\n",
      "        /n/schierfs1/projects/nanog2016/tophat/mapped_reads/wildtype-shield2_S5/accepted_hits.bam \\\n",
      "        /n/schierfs1/projects/nanog2016/tophat/mapped_reads/wildtype-shield3_S6/accepted_hits.bam \\\n",
      "        /n/schierfs1/projects/nanog2016/tophat/mapped_reads/wildtype-sphere1_S1/accepted_hits.bam \\\n",
      "        /n/schierfs1/projects/nanog2016/tophat/mapped_reads/wildtype-sphere2_S2/accepted_hits.bam \\\n",
      "        /n/schierfs1/projects/nanog2016/tophat/mapped_reads/wildtype-sphere3_S3/accepted_hits.bam \\\n",
      "        \n",
      "\n",
      "\n",
      "\n",
      "        "
     ],
     "language": "python",
     "metadata": {},
     "outputs": [
      {
       "output_type": "stream",
       "stream": "stdout",
       "text": [
        "Writing ./zFish_FeatureCounts_TopHat.sh\n"
       ]
      }
     ],
     "prompt_number": 1
    },
    {
     "cell_type": "code",
     "collapsed": false,
     "input": [
      "%%writefile ./zFish_FeatureCounts_TopHat_Again.sh\n",
      "#!/bin/bash\n",
      "\n",
      "#SBATCH -n 4                            #The number of cores should match the '--threads' parameter of subjunc\n",
      "#SBATCH -N 1                            #Run on 1 node\n",
      "#SBATCH --mem=4000                     \n",
      "\n",
      "#SBATCH -t 180\n",
      "#SBATCH -p serial_requeue              \n",
      "\n",
      "#SBATCH -o index_output_FC_TopHat_Again2\n",
      "#SBATCH -e index_error_FC_TopHat_Agian2\n",
      "#SBATCH --mail-type=ALL\n",
      "#SBATCH --mail-user=kobbad@college.harvard.edu\n",
      "\n",
      "# --------------\n",
      "source /n/scrb152/setup.sh\n",
      "    \n",
      "~/software/subread-1.4.6-p3-source/bin/featureCounts \\\n",
      "        -a /n/schierfs1/db/Danio_rerio/Ensembl/Zv9/Annotation/Genes/genes.gtf \\\n",
      "        -F GTF \\\n",
      "        -s 0 \\\n",
      "        -o feature_counts_top_hat.txt  \\\n",
      "        -Q 1 \\\n",
      "        -R \\\n",
      "        /n/schierfs1/projects/nanog2016/tophat/mapped_reads/mutant-shield1_S10/accepted_hits.bam \\\n",
      "        /n/schierfs1/projects/nanog2016/tophat/mapped_reads/mutant-shield2_S11/accepted_hits.bam \\\n",
      "        /n/schierfs1/projects/nanog2016/tophat/mapped_reads/mutant-shield3_S12/accepted_hits.bam \\\n",
      "        /n/schierfs1/projects/nanog2016/tophat/mapped_reads/mutant-sphere1_S7/accepted_hits.bam \\\n",
      "        /n/schierfs1/projects/nanog2016/tophat/mapped_reads/mutant-sphere2_S8/accepted_hits.bam \\\n",
      "        /n/schierfs1/projects/nanog2016/tophat/mapped_reads/mutant-sphere3_S9/accepted_hits.bam \\\n",
      "        /n/schierfs1/projects/nanog2016/tophat/mapped_reads/wildtype-shield1_S4/accepted_hits.bam \\\n",
      "        /n/schierfs1/projects/nanog2016/tophat/mapped_reads/wildtype-shield2_S5/accepted_hits.bam \\\n",
      "        /n/schierfs1/projects/nanog2016/tophat/mapped_reads/wildtype-shield3_S6/accepted_hits.bam \\\n",
      "        /n/schierfs1/projects/nanog2016/tophat/mapped_reads/wildtype-sphere1_S1/accepted_hits.bam \\\n",
      "        /n/schierfs1/projects/nanog2016/tophat/mapped_reads/wildtype-sphere2_S2/accepted_hits.bam \\\n",
      "        /n/schierfs1/projects/nanog2016/tophat/mapped_reads/wildtype-sphere3_S3/accepted_hits.bam \\\n",
      "        "
     ],
     "language": "python",
     "metadata": {},
     "outputs": [
      {
       "output_type": "stream",
       "stream": "stdout",
       "text": [
        "Overwriting ./zFish_FeatureCounts_TopHat_Again.sh\n"
       ]
      }
     ],
     "prompt_number": 5
    },
    {
     "cell_type": "code",
     "collapsed": false,
     "input": [
      "%%bash\n",
      "sbatch ./zFish_FeatureCounts_TopHat_Again.sh"
     ],
     "language": "python",
     "metadata": {},
     "outputs": [
      {
       "output_type": "stream",
       "stream": "stdout",
       "text": [
        "Submitted batch job 60873183\n"
       ]
      }
     ],
     "prompt_number": 7
    },
    {
     "cell_type": "markdown",
     "metadata": {},
     "source": [
      "### Use Voom and Limma for normalizing and finding diff. exp."
     ]
    },
    {
     "cell_type": "code",
     "collapsed": false,
     "input": [
      "counts_bulk = pd.read_csv(\"/n/schierfs1/projects/nanog2016/feature_counts.txt\",sep='\\t', comment = \"#\",names = [\"Geneid\",\"Chr\",\"Start\",\"End\",\"Strand\",\"Length\",\"MZ_shield_1\",\"MZ_shield_2\",\"MZ_shield_3\",\"MZ_sphere_1\",\"MZ_sphere_2\",\"MZ_sphere_3\",\"WT_shield_1\",\"WT_shield_2\",\"WT_shield_3\",\"WT_sphere_1\",\"WT_sphere_2\",\"WT_sphere_3\"]         )\n",
      "#counts_bulk.set_index(\"Geneid\",inplace=True)\n",
      "#countsMatrix_bulk = counts_bulk.loc[:,\"/n/schierfs1/projects/nanog2016/mutant-shield1_S10.R1.bam\":]\n",
      "counts = counts_bulk.ix[2:,:]\n",
      "counts.set_index(\"Geneid\",inplace=True)\n",
      "counts.head()\n",
      "\n",
      "#counts = pd.read_csv(\"/n/schierfs1/projects/nanog2016/feature_counts.txt\",sep='\\t', comment = \"#\")"
     ],
     "language": "python",
     "metadata": {},
     "outputs": [
      {
       "html": [
        "<div style=\"max-height:1000px;max-width:1500px;overflow:auto;\">\n",
        "<table border=\"1\" class=\"dataframe\">\n",
        "  <thead>\n",
        "    <tr style=\"text-align: right;\">\n",
        "      <th></th>\n",
        "      <th>Chr</th>\n",
        "      <th>Start</th>\n",
        "      <th>End</th>\n",
        "      <th>Strand</th>\n",
        "      <th>Length</th>\n",
        "      <th>MZ_shield_1</th>\n",
        "      <th>MZ_shield_2</th>\n",
        "      <th>MZ_shield_3</th>\n",
        "      <th>MZ_sphere_1</th>\n",
        "      <th>MZ_sphere_2</th>\n",
        "      <th>MZ_sphere_3</th>\n",
        "      <th>WT_shield_1</th>\n",
        "      <th>WT_shield_2</th>\n",
        "      <th>WT_shield_3</th>\n",
        "      <th>WT_sphere_1</th>\n",
        "      <th>WT_sphere_2</th>\n",
        "      <th>WT_sphere_3</th>\n",
        "    </tr>\n",
        "    <tr>\n",
        "      <th>Geneid</th>\n",
        "      <th></th>\n",
        "      <th></th>\n",
        "      <th></th>\n",
        "      <th></th>\n",
        "      <th></th>\n",
        "      <th></th>\n",
        "      <th></th>\n",
        "      <th></th>\n",
        "      <th></th>\n",
        "      <th></th>\n",
        "      <th></th>\n",
        "      <th></th>\n",
        "      <th></th>\n",
        "      <th></th>\n",
        "      <th></th>\n",
        "      <th></th>\n",
        "      <th></th>\n",
        "    </tr>\n",
        "  </thead>\n",
        "  <tbody>\n",
        "    <tr>\n",
        "      <th>si:ch211-114l13.7</th>\n",
        "      <td> chr1;chr1;chr1;chr1;chr1;chr1;chr1;chr1;chr1;c...</td>\n",
        "      <td> 58701201;58701795;58703436;58704008;58704254;5...</td>\n",
        "      <td> 58701468;58702001;58703563;58704140;58704360;5...</td>\n",
        "      <td>                           -;-;-;-;-;-;-;-;-;-;-;-</td>\n",
        "      <td> 1815</td>\n",
        "      <td> 113</td>\n",
        "      <td> 104</td>\n",
        "      <td>  46</td>\n",
        "      <td>    3</td>\n",
        "      <td>   6</td>\n",
        "      <td>   28</td>\n",
        "      <td>   4</td>\n",
        "      <td>  55</td>\n",
        "      <td>   21</td>\n",
        "      <td>   0</td>\n",
        "      <td>   0</td>\n",
        "      <td>   1</td>\n",
        "    </tr>\n",
        "    <tr>\n",
        "      <th>lef1</th>\n",
        "      <td> chr1;chr1;chr1;chr1;chr1;chr1;chr1;chr1;chr1;c...</td>\n",
        "      <td> 50321634;50323685;50327723;50376642;50384689;5...</td>\n",
        "      <td> 50322231;50323751;50327850;50376774;50384782;5...</td>\n",
        "      <td>                             +;+;+;+;+;+;+;+;+;+;+</td>\n",
        "      <td> 2774</td>\n",
        "      <td> 919</td>\n",
        "      <td> 686</td>\n",
        "      <td> 477</td>\n",
        "      <td> 3128</td>\n",
        "      <td> 567</td>\n",
        "      <td>  323</td>\n",
        "      <td> 482</td>\n",
        "      <td> 301</td>\n",
        "      <td>  977</td>\n",
        "      <td> 609</td>\n",
        "      <td> 390</td>\n",
        "      <td> 215</td>\n",
        "    </tr>\n",
        "    <tr>\n",
        "      <th>erbb4a</th>\n",
        "      <td> chr1;chr1;chr1;chr1;chr1;chr1;chr1;chr1;chr1;c...</td>\n",
        "      <td> 5694953;5715671;5738068;5740587;5742382;574271...</td>\n",
        "      <td> 5695106;5715857;5738203;5740705;5742523;574283...</td>\n",
        "      <td> +;+;+;+;+;+;+;+;+;+;+;+;+;+;+;+;+;+;+;+;+;+;+;...</td>\n",
        "      <td> 6746</td>\n",
        "      <td>   5</td>\n",
        "      <td>   6</td>\n",
        "      <td>   2</td>\n",
        "      <td>   79</td>\n",
        "      <td>   7</td>\n",
        "      <td>   10</td>\n",
        "      <td>  19</td>\n",
        "      <td>   0</td>\n",
        "      <td>   61</td>\n",
        "      <td>  26</td>\n",
        "      <td>  15</td>\n",
        "      <td>  13</td>\n",
        "    </tr>\n",
        "    <tr>\n",
        "      <th>rfc1</th>\n",
        "      <td> chr1;chr1;chr1;chr1;chr1;chr1;chr1;chr1;chr1;c...</td>\n",
        "      <td> 22017137;22022450;22022872;22023175;22023560;2...</td>\n",
        "      <td> 22017883;22022632;22023085;22023320;22023677;2...</td>\n",
        "      <td>   -;-;-;-;-;-;-;-;-;-;-;-;-;-;-;-;-;-;-;-;-;-;-;-</td>\n",
        "      <td> 4212</td>\n",
        "      <td> 253</td>\n",
        "      <td> 264</td>\n",
        "      <td> 173</td>\n",
        "      <td> 2215</td>\n",
        "      <td> 898</td>\n",
        "      <td> 1592</td>\n",
        "      <td> 505</td>\n",
        "      <td> 109</td>\n",
        "      <td> 1008</td>\n",
        "      <td> 499</td>\n",
        "      <td> 358</td>\n",
        "      <td> 454</td>\n",
        "    </tr>\n",
        "    <tr>\n",
        "      <th>exosc9</th>\n",
        "      <td> chr1;chr1;chr1;chr1;chr1;chr1;chr1;chr1;chr1;c...</td>\n",
        "      <td> 17825396;17825715;17826185;17826401;17828376;1...</td>\n",
        "      <td> 17825568;17825809;17826304;17826503;17828513;1...</td>\n",
        "      <td>                           +;+;+;+;+;+;+;+;+;+;+;+</td>\n",
        "      <td> 1393</td>\n",
        "      <td> 745</td>\n",
        "      <td> 734</td>\n",
        "      <td> 436</td>\n",
        "      <td> 1920</td>\n",
        "      <td> 329</td>\n",
        "      <td>  462</td>\n",
        "      <td> 476</td>\n",
        "      <td> 339</td>\n",
        "      <td>  931</td>\n",
        "      <td> 267</td>\n",
        "      <td> 204</td>\n",
        "      <td> 203</td>\n",
        "    </tr>\n",
        "  </tbody>\n",
        "</table>\n",
        "<p>5 rows \u00d7 17 columns</p>\n",
        "</div>"
       ],
       "metadata": {},
       "output_type": "pyout",
       "prompt_number": 36,
       "text": [
        "                                                                 Chr  \\\n",
        "Geneid                                                                 \n",
        "si:ch211-114l13.7  chr1;chr1;chr1;chr1;chr1;chr1;chr1;chr1;chr1;c...   \n",
        "lef1               chr1;chr1;chr1;chr1;chr1;chr1;chr1;chr1;chr1;c...   \n",
        "erbb4a             chr1;chr1;chr1;chr1;chr1;chr1;chr1;chr1;chr1;c...   \n",
        "rfc1               chr1;chr1;chr1;chr1;chr1;chr1;chr1;chr1;chr1;c...   \n",
        "exosc9             chr1;chr1;chr1;chr1;chr1;chr1;chr1;chr1;chr1;c...   \n",
        "\n",
        "                                                               Start  \\\n",
        "Geneid                                                                 \n",
        "si:ch211-114l13.7  58701201;58701795;58703436;58704008;58704254;5...   \n",
        "lef1               50321634;50323685;50327723;50376642;50384689;5...   \n",
        "erbb4a             5694953;5715671;5738068;5740587;5742382;574271...   \n",
        "rfc1               22017137;22022450;22022872;22023175;22023560;2...   \n",
        "exosc9             17825396;17825715;17826185;17826401;17828376;1...   \n",
        "\n",
        "                                                                 End  \\\n",
        "Geneid                                                                 \n",
        "si:ch211-114l13.7  58701468;58702001;58703563;58704140;58704360;5...   \n",
        "lef1               50322231;50323751;50327850;50376774;50384782;5...   \n",
        "erbb4a             5695106;5715857;5738203;5740705;5742523;574283...   \n",
        "rfc1               22017883;22022632;22023085;22023320;22023677;2...   \n",
        "exosc9             17825568;17825809;17826304;17826503;17828513;1...   \n",
        "\n",
        "                                                              Strand Length  \\\n",
        "Geneid                                                                        \n",
        "si:ch211-114l13.7                            -;-;-;-;-;-;-;-;-;-;-;-   1815   \n",
        "lef1                                           +;+;+;+;+;+;+;+;+;+;+   2774   \n",
        "erbb4a             +;+;+;+;+;+;+;+;+;+;+;+;+;+;+;+;+;+;+;+;+;+;+;...   6746   \n",
        "rfc1                 -;-;-;-;-;-;-;-;-;-;-;-;-;-;-;-;-;-;-;-;-;-;-;-   4212   \n",
        "exosc9                                       +;+;+;+;+;+;+;+;+;+;+;+   1393   \n",
        "\n",
        "                  MZ_shield_1 MZ_shield_2 MZ_shield_3 MZ_sphere_1 MZ_sphere_2  \\\n",
        "Geneid                                                                          \n",
        "si:ch211-114l13.7         113         104          46           3           6   \n",
        "lef1                      919         686         477        3128         567   \n",
        "erbb4a                      5           6           2          79           7   \n",
        "rfc1                      253         264         173        2215         898   \n",
        "exosc9                    745         734         436        1920         329   \n",
        "\n",
        "                  MZ_sphere_3 WT_shield_1 WT_shield_2 WT_shield_3 WT_sphere_1  \\\n",
        "Geneid                                                                          \n",
        "si:ch211-114l13.7          28           4          55          21           0   \n",
        "lef1                      323         482         301         977         609   \n",
        "erbb4a                     10          19           0          61          26   \n",
        "rfc1                     1592         505         109        1008         499   \n",
        "exosc9                    462         476         339         931         267   \n",
        "\n",
        "                  WT_sphere_2 WT_sphere_3  \n",
        "Geneid                                     \n",
        "si:ch211-114l13.7           0           1  \n",
        "lef1                      390         215  \n",
        "erbb4a                     15          13  \n",
        "rfc1                      358         454  \n",
        "exosc9                    204         203  \n",
        "\n",
        "[5 rows x 17 columns]"
       ]
      }
     ],
     "prompt_number": 36
    },
    {
     "cell_type": "code",
     "collapsed": false,
     "input": [
      "counts_shield = counts[[\"MZ_shield_1\",\"MZ_shield_2\",\"MZ_shield_3\",\"WT_shield_1\",\"WT_shield_2\",\"WT_shield_3\"]]\n",
      "counts_sphere = counts[[\"MZ_sphere_1\",\"MZ_sphere_2\",\"MZ_sphere_3\",\"WT_sphere_1\",\"WT_sphere_2\",\"WT_sphere_3\"]]\n",
      "counts_sphere.head()"
     ],
     "language": "python",
     "metadata": {},
     "outputs": [
      {
       "html": [
        "<div style=\"max-height:1000px;max-width:1500px;overflow:auto;\">\n",
        "<table border=\"1\" class=\"dataframe\">\n",
        "  <thead>\n",
        "    <tr style=\"text-align: right;\">\n",
        "      <th></th>\n",
        "      <th>MZ_sphere_1</th>\n",
        "      <th>MZ_sphere_2</th>\n",
        "      <th>MZ_sphere_3</th>\n",
        "      <th>WT_sphere_1</th>\n",
        "      <th>WT_sphere_2</th>\n",
        "      <th>WT_sphere_3</th>\n",
        "    </tr>\n",
        "    <tr>\n",
        "      <th>Geneid</th>\n",
        "      <th></th>\n",
        "      <th></th>\n",
        "      <th></th>\n",
        "      <th></th>\n",
        "      <th></th>\n",
        "      <th></th>\n",
        "    </tr>\n",
        "  </thead>\n",
        "  <tbody>\n",
        "    <tr>\n",
        "      <th>si:ch211-114l13.7</th>\n",
        "      <td>    3</td>\n",
        "      <td>   6</td>\n",
        "      <td>   28</td>\n",
        "      <td>   0</td>\n",
        "      <td>   0</td>\n",
        "      <td>   1</td>\n",
        "    </tr>\n",
        "    <tr>\n",
        "      <th>lef1</th>\n",
        "      <td> 3128</td>\n",
        "      <td> 567</td>\n",
        "      <td>  323</td>\n",
        "      <td> 609</td>\n",
        "      <td> 390</td>\n",
        "      <td> 215</td>\n",
        "    </tr>\n",
        "    <tr>\n",
        "      <th>erbb4a</th>\n",
        "      <td>   79</td>\n",
        "      <td>   7</td>\n",
        "      <td>   10</td>\n",
        "      <td>  26</td>\n",
        "      <td>  15</td>\n",
        "      <td>  13</td>\n",
        "    </tr>\n",
        "    <tr>\n",
        "      <th>rfc1</th>\n",
        "      <td> 2215</td>\n",
        "      <td> 898</td>\n",
        "      <td> 1592</td>\n",
        "      <td> 499</td>\n",
        "      <td> 358</td>\n",
        "      <td> 454</td>\n",
        "    </tr>\n",
        "    <tr>\n",
        "      <th>exosc9</th>\n",
        "      <td> 1920</td>\n",
        "      <td> 329</td>\n",
        "      <td>  462</td>\n",
        "      <td> 267</td>\n",
        "      <td> 204</td>\n",
        "      <td> 203</td>\n",
        "    </tr>\n",
        "  </tbody>\n",
        "</table>\n",
        "<p>5 rows \u00d7 6 columns</p>\n",
        "</div>"
       ],
       "metadata": {},
       "output_type": "pyout",
       "prompt_number": 38,
       "text": [
        "                  MZ_sphere_1 MZ_sphere_2 MZ_sphere_3 WT_sphere_1 WT_sphere_2  \\\n",
        "Geneid                                                                          \n",
        "si:ch211-114l13.7           3           6          28           0           0   \n",
        "lef1                     3128         567         323         609         390   \n",
        "erbb4a                     79           7          10          26          15   \n",
        "rfc1                     2215         898        1592         499         358   \n",
        "exosc9                   1920         329         462         267         204   \n",
        "\n",
        "                  WT_sphere_3  \n",
        "Geneid                         \n",
        "si:ch211-114l13.7           1  \n",
        "lef1                      215  \n",
        "erbb4a                     13  \n",
        "rfc1                      454  \n",
        "exosc9                    203  \n",
        "\n",
        "[5 rows x 6 columns]"
       ]
      }
     ],
     "prompt_number": 38
    },
    {
     "cell_type": "code",
     "collapsed": false,
     "input": [
      "bulkCounts=counts_shield\n",
      "design=np.array([[1,0],[1,0],[1,0],[1,1],[1,1],[1,1]])\n",
      "genes=(bulkCounts.index).tolist()"
     ],
     "language": "python",
     "metadata": {},
     "outputs": [],
     "prompt_number": 39
    },
    {
     "cell_type": "code",
     "collapsed": false,
     "input": [
      "%Rpush bulkCounts design genes\n",
      "%R library(edgeR)\n",
      "%R library(limma)\n",
      "%R x <- DGEList(counts=bulkCounts, genes=genes)\n",
      "%R x <- calcNormFactors(x,method=\"upperquartile\")\n",
      "%R y <- x$samples\n",
      "%R voomResults <- voom(x,design)\n",
      "%R lm <- lmFit(voomResults,design)\n",
      "%R fit <- eBayes(lm)\n",
      "%R limmaResults_bulk <- topTable(fit,sort=\"p\",n=Inf,coef=2)\n",
      "CalcNormFactors_bulk=com.load_data('y')\n",
      "LimmaResults_bulk = com.load_data('limmaResults_bulk')"
     ],
     "language": "python",
     "metadata": {},
     "outputs": [
      {
       "ename": "NameError",
       "evalue": "name 'com' is not defined",
       "output_type": "pyerr",
       "traceback": [
        "\u001b[1;31m---------------------------------------------------------------------------\u001b[0m\n\u001b[1;31mNameError\u001b[0m                                 Traceback (most recent call last)",
        "\u001b[1;32m<ipython-input-41-aa43610d82ea>\u001b[0m in \u001b[0;36m<module>\u001b[1;34m()\u001b[0m\n\u001b[0;32m      9\u001b[0m \u001b[0mget_ipython\u001b[0m\u001b[1;33m(\u001b[0m\u001b[1;33m)\u001b[0m\u001b[1;33m.\u001b[0m\u001b[0mmagic\u001b[0m\u001b[1;33m(\u001b[0m\u001b[1;34mu'R fit <- eBayes(lm)'\u001b[0m\u001b[1;33m)\u001b[0m\u001b[1;33m\u001b[0m\u001b[0m\n\u001b[0;32m     10\u001b[0m \u001b[0mget_ipython\u001b[0m\u001b[1;33m(\u001b[0m\u001b[1;33m)\u001b[0m\u001b[1;33m.\u001b[0m\u001b[0mmagic\u001b[0m\u001b[1;33m(\u001b[0m\u001b[1;34mu'R limmaResults_bulk <- topTable(fit,sort=\"p\",n=Inf,coef=2)'\u001b[0m\u001b[1;33m)\u001b[0m\u001b[1;33m\u001b[0m\u001b[0m\n\u001b[1;32m---> 11\u001b[1;33m \u001b[0mCalcNormFactors_bulk\u001b[0m\u001b[1;33m=\u001b[0m\u001b[0mcom\u001b[0m\u001b[1;33m.\u001b[0m\u001b[0mload_data\u001b[0m\u001b[1;33m(\u001b[0m\u001b[1;34m'y'\u001b[0m\u001b[1;33m)\u001b[0m\u001b[1;33m\u001b[0m\u001b[0m\n\u001b[0m\u001b[0;32m     12\u001b[0m \u001b[0mLimmaResults_bulk\u001b[0m \u001b[1;33m=\u001b[0m \u001b[0mcom\u001b[0m\u001b[1;33m.\u001b[0m\u001b[0mload_data\u001b[0m\u001b[1;33m(\u001b[0m\u001b[1;34m'limmaResults_bulk'\u001b[0m\u001b[1;33m)\u001b[0m\u001b[1;33m\u001b[0m\u001b[0m\n",
        "\u001b[1;31mNameError\u001b[0m: name 'com' is not defined"
       ]
      },
      {
       "output_type": "stream",
       "stream": "stderr",
       "text": [
        "ERROR: Line magic function `%Rpush` not found.\n",
        "ERROR: Line magic function `%R` not found.\n",
        "ERROR: Line magic function `%R` not found.\n",
        "ERROR: Line magic function `%R` not found.\n",
        "ERROR: Line magic function `%R` not found.\n",
        "ERROR: Line magic function `%R` not found.\n",
        "ERROR: Line magic function `%R` not found.\n",
        "ERROR: Line magic function `%R` not found.\n",
        "ERROR: Line magic function `%R` not found.\n",
        "ERROR: Line magic function `%R` not found.\n"
       ]
      }
     ],
     "prompt_number": 41
    },
    {
     "cell_type": "code",
     "collapsed": false,
     "input": [
      "counts.to_csv(\"FC_zfish.csv\")"
     ],
     "language": "python",
     "metadata": {},
     "outputs": [],
     "prompt_number": 45
    },
    {
     "cell_type": "code",
     "collapsed": false,
     "input": [],
     "language": "python",
     "metadata": {},
     "outputs": []
    }
   ],
   "metadata": {}
  }
 ]
}